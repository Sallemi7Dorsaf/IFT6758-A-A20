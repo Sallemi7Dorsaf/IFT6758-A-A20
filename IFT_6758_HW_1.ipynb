{
  "nbformat": 4,
  "nbformat_minor": 0,
  "metadata": {
    "colab": {
      "name": "IFT-6758 HW-1-Solutions(En).ipynb",
      "provenance": [],
      "collapsed_sections": []
    },
    "kernelspec": {
      "name": "python3",
      "display_name": "Python 3"
    }
  },
  "cells": [
    {
      "cell_type": "markdown",
      "metadata": {
        "id": "2TN3FCLfgPlW"
      },
      "source": [
        "<center><h1> IFT-6758 : Data Science  </h1></center>\n",
        "<center><h2> Fall - 2020 </h2></center> \n",
        "<center><h3> Homework - 1 : Solutions</h3></center> \n",
        "\n"
      ]
    },
    {
      "cell_type": "code",
      "metadata": {
        "id": "5gmTBgy5yqYu",
        "cellView": "form"
      },
      "source": [
        "#@title Imports (Run this cell first) { run: \"auto\" }\n",
        "plotting_library = \"matplotlib\"\n",
        "import pandas as pd\n",
        "import numpy as np\n",
        "import matplotlib.pyplot as plt\n",
        "\n",
        "import seaborn as sns\n",
        "\n",
        "# Uncomment this line below if using seaborn\n",
        "#sns.set() \n",
        "\n",
        "%matplotlib inline\n",
        "\n",
        "path = 'https://raw.githubusercontent.com/Jhelum-Ch/DataScience_IFT6758/gh-pages/media/{}'"
      ],
      "execution_count": null,
      "outputs": []
    },
    {
      "cell_type": "markdown",
      "metadata": {
        "id": "wdfJi5fyg83K"
      },
      "source": [
        "## Data Wrangling"
      ]
    },
    {
      "cell_type": "markdown",
      "metadata": {
        "id": "dyc_U4otFmIE"
      },
      "source": [
        "#### Q1"
      ]
    },
    {
      "cell_type": "markdown",
      "metadata": {
        "id": "ncJ1cJZSHuS2"
      },
      "source": [
        "**7 points** = $(2 + 2 + 1 + 2)              $"
      ]
    },
    {
      "cell_type": "markdown",
      "metadata": {
        "id": "dXq7bKa9VCBV"
      },
      "source": [
        "Given below is the code to load a dataset with the population of different geographical regions in Canada. "
      ]
    },
    {
      "cell_type": "code",
      "metadata": {
        "id": "GpWIUd4LYxiQ"
      },
      "source": [
        "pop_df = pd.read_csv(path.format('canada-population.csv'))"
      ],
      "execution_count": null,
      "outputs": []
    },
    {
      "cell_type": "markdown",
      "metadata": {
        "id": "Fyejua1h0ty1"
      },
      "source": [
        "(a) Visualize the distribution of the `population` column using an appropriate histogram. Does the distribution resemble any well-known distribution? What aspect of the data causes this shape of the distribution?"
      ]
    },
    {
      "cell_type": "code",
      "metadata": {
        "id": "_xy8VsBJ2zxC",
        "outputId": "78fec636-1f83-43c6-d2b1-cfe674a20bcd",
        "colab": {
          "base_uri": "https://localhost:8080/",
          "height": 278
        }
      },
      "source": [
        "plt.hist(pop_df.population.dropna(),bins=100,range=(0,pop_df.population.dropna().quantile(q=0.975)))\n",
        "plt.xlabel('population')\n",
        "plt.ylabel('counts');"
      ],
      "execution_count": null,
      "outputs": [
        {
          "output_type": "display_data",
          "data": {
            "image/png": "[encoded data removed]",
            "text/plain": [
              "<Figure size 432x288 with 1 Axes>"
            ]
          },
          "metadata": {
            "tags": [],
            "needs_background": "light"
          }
        }
      ]
    },
    {
      "cell_type": "markdown",
      "metadata": {
        "id": "htOG-vZrMmoO"
      },
      "source": [
        "Exponential distribution -  as seen from the histogram.\n",
        "\n",
        "Alternate : Log-normal distribution\n",
        "\n",
        "(Other variants from the Exponential family of distributions are acceptable, if provided with good explanation)"
      ]
    },
    {
      "cell_type": "markdown",
      "metadata": {
        "id": "zBIDo-9V0uQ4"
      },
      "source": [
        "\n",
        "(b) A common strategy is to transform the data to bring it closer to a better distribution. Try out the following transformations and *visually* determine if any of them lead it closer to another well-known distribution. **Name the distribution(s) if it is different from (a)**:\n",
        "\n",
        "> 1.   $\\sqrt{population}$"
      ]
    },
    {
      "cell_type": "code",
      "metadata": {
        "id": "C_XrQWm9C5U2",
        "outputId": "2733f3a7-8cab-4202-c4af-309a6b3f4329",
        "colab": {
          "base_uri": "https://localhost:8080/",
          "height": 278
        }
      },
      "source": [
        "sqrt_population = np.sqrt(pop_df.population.dropna())\n",
        "plt.hist(sqrt_population,bins=100,range=(0,sqrt_population.quantile(q=0.975)))\n",
        "plt.xlabel('population')\n",
        "plt.ylabel('counts');"
      ],
      "execution_count": null,
      "outputs": [
        {
          "output_type": "display_data",
          "data": {
            "image/png": "[encoded data removed]",
            "text/plain": [
              "<Figure size 432x288 with 1 Axes>"
            ]
          },
          "metadata": {
            "tags": [],
            "needs_background": "light"
          }
        }
      ]
    },
    {
      "cell_type": "markdown",
      "metadata": {
        "id": "rK1TZTAGLwV_"
      },
      "source": [
        "Poisson Distribution\n",
        "\n",
        "Alternate : Log-normal distribution\n",
        "\n",
        "(Other variants from the Exponential family of distributions are acceptable, if provided with good explanation)"
      ]
    },
    {
      "cell_type": "markdown",
      "metadata": {
        "id": "Mwcz-eSuL1jt"
      },
      "source": [
        "> 2.   $log_{10}(1+population)$\n"
      ]
    },
    {
      "cell_type": "code",
      "metadata": {
        "id": "TR1MK76m0uao",
        "outputId": "ca5d027d-eac0-4a1a-cc63-7978d4d0d62c",
        "colab": {
          "base_uri": "https://localhost:8080/",
          "height": 278
        }
      },
      "source": [
        "plt.hist(np.log(1+pop_df.population.dropna()), bins=100)\n",
        "plt.xlabel('population')\n",
        "plt.ylabel('counts');\n",
        "\n",
        "#Alternatively, use np.log1p(pop_df.population.dropna()) as it equivant to the np.log(1+...) above\n"
      ],
      "execution_count": null,
      "outputs": [
        {
          "output_type": "display_data",
          "data": {
            "image/png": "[encoded data removed]",
            "text/plain": [
              "<Figure size 432x288 with 1 Axes>"
            ]
          },
          "metadata": {
            "tags": [],
            "needs_background": "light"
          }
        }
      ]
    },
    {
      "cell_type": "markdown",
      "metadata": {
        "id": "rgoy7FP_L2eV"
      },
      "source": [
        "Normal distribution - due to the very clear bell-shaped curve.\n",
        "\n",
        "(Poisson (with a higer $\\lambda$) is also acceptable)"
      ]
    },
    {
      "cell_type": "markdown",
      "metadata": {
        "id": "hlrKLTWl0ulP"
      },
      "source": [
        "(c) What difference do you think the above `log` transfomation makes with `1 + population` as opposed to using just `population`?"
      ]
    },
    {
      "cell_type": "markdown",
      "metadata": {
        "id": "7hUpwcDsC97z"
      },
      "source": [
        "We notice from the above plots that there are too many 0s in the samples. As `log(0)` gives `-np.inf` ($-\\infty$), it is not a useful way of transforming the data to model a distribution. Thus adding 1 before taking the `log` has a negligible effect on the other values while fixing the infinity issue with 0.\n",
        "\n",
        "You can try running the cell below and notice the last row."
      ]
    },
    {
      "cell_type": "code",
      "metadata": {
        "id": "VVlX9AkBHM5W",
        "outputId": "6bb93c3a-90fb-4b24-c7eb-501083763a38",
        "colab": {
          "base_uri": "https://localhost:8080/",
          "height": 265
        }
      },
      "source": [
        "np.log(pop_df.population)"
      ],
      "execution_count": null,
      "outputs": [
        {
          "output_type": "stream",
          "text": [
            "/usr/local/lib/python3.6/dist-packages/pandas/core/series.py:726: RuntimeWarning: divide by zero encountered in log\n",
            "  result = getattr(ufunc, method)(*inputs, **kwargs)\n"
          ],
          "name": "stderr"
        },
        {
          "output_type": "execute_result",
          "data": {
            "text/plain": [
              "0       17.326360\n",
              "1        4.127134\n",
              "2        5.075174\n",
              "3        6.345636\n",
              "4        4.394449\n",
              "          ...    \n",
              "5249     1.609438\n",
              "5250     7.382746\n",
              "5251     7.153834\n",
              "5252     6.801283\n",
              "5253         -inf\n",
              "Name: population, Length: 5254, dtype: float64"
            ]
          },
          "metadata": {
            "tags": []
          },
          "execution_count": 70
        }
      ]
    },
    {
      "cell_type": "markdown",
      "metadata": {
        "id": "z6edxpw60u5T"
      },
      "source": [
        "(d) Try out the same log transfomation in (c) with different values of the base of the log. What difference do you observe when you change the base?"
      ]
    },
    {
      "cell_type": "code",
      "metadata": {
        "id": "ZHye1uHX0vD6",
        "outputId": "8ecdaa55-3962-4304-84fa-1312b85ae608",
        "colab": {
          "base_uri": "https://localhost:8080/",
          "height": 294
        }
      },
      "source": [
        "#Let us try 3 different bases\n",
        "\n",
        "bases = [np.e, 10, 2]\n",
        "\n",
        "fig, ax = plt.subplots(1,3, figsize=(22,4))\n",
        "ax[0].hist(np.log(1+pop_df.population.dropna()), bins=100);\n",
        "ax[1].hist(np.log10(1+pop_df.population.dropna()), bins=100);\n",
        "ax[2].hist(np.log2(1+pop_df.population.dropna()), bins=100);\n",
        "\n",
        "for b,axis in zip(bases,ax):\n",
        "  axis.set_title('base = {:.1f}'.format(b))\n",
        "  axis.set_xlabel('population')\n",
        "  axis.set_ylabel('counts');"
      ],
      "execution_count": null,
      "outputs": [
        {
          "output_type": "display_data",
          "data": {
            "image/png": "[encoded data removed]",
            "text/plain": [
              "<Figure size 1584x288 with 3 Axes>"
            ]
          },
          "metadata": {
            "tags": [],
            "needs_background": "light"
          }
        }
      ]
    },
    {
      "cell_type": "markdown",
      "metadata": {
        "id": "bXhPTLQG0vSD"
      },
      "source": [
        "The shape of the data distribution remains the same, but only the \"scale\" of the values changes. This means that it does not really matter which base you use in such a transformation. However, if your model has constraints on the range of data, you can pick the base that suits the particular range.  "
      ]
    },
    {
      "cell_type": "markdown",
      "metadata": {
        "id": "WH4rzXQum0w2"
      },
      "source": [
        "## Exploratory Analysis"
      ]
    },
    {
      "cell_type": "markdown",
      "metadata": {
        "id": "-OiE56H3m6xw"
      },
      "source": [
        "####Q2"
      ]
    },
    {
      "cell_type": "markdown",
      "metadata": {
        "id": "rnXE_wOVGMxF"
      },
      "source": [
        "**9 points** = $(1 + 1.5 + 3 + 2 + 1.5)$"
      ]
    },
    {
      "cell_type": "markdown",
      "metadata": {
        "id": "bk7uw3bcFuNr"
      },
      "source": [
        "The next cell loads the fancy penguins dataset into a dataframe."
      ]
    },
    {
      "cell_type": "code",
      "metadata": {
        "id": "YUPZ-IoEwpHi"
      },
      "source": [
        "penguins = pd.read_csv(path.format('fancy-penguins.csv'))"
      ],
      "execution_count": null,
      "outputs": []
    },
    {
      "cell_type": "markdown",
      "metadata": {
        "id": "N_jLaLVtITLl"
      },
      "source": [
        "(a) Remove the rows that have `NaN` values *for all* numerical features except `body_color`. "
      ]
    },
    {
      "cell_type": "code",
      "metadata": {
        "id": "ixVe3fJ5ITiR"
      },
      "source": [
        ""
      ],
      "execution_count": null,
      "outputs": []
    },
    {
      "cell_type": "markdown",
      "metadata": {
        "id": "axDj000uITuR"
      },
      "source": [
        "(b) In the result obtained in (a), how many penguins have no `body_color` assigned? Replace these `body_color` entries with a string type `unknown` \n"
      ]
    },
    {
      "cell_type": "code",
      "metadata": {
        "id": "Eh3G8AKPIT99"
      },
      "source": [
        ""
      ],
      "execution_count": null,
      "outputs": []
    },
    {
      "cell_type": "markdown",
      "metadata": {
        "id": "vm040BsXIZam"
      },
      "source": [
        "(c) Visualize this data in a pair plot and guess the possible `body_color` of the penguins that have no `body_color` assigned.**Justify** your choice."
      ]
    },
    {
      "cell_type": "code",
      "metadata": {
        "id": "Xz0Dft1fIZlI"
      },
      "source": [
        ""
      ],
      "execution_count": null,
      "outputs": []
    },
    {
      "cell_type": "markdown",
      "metadata": {
        "id": "ZgjxmNi-Ib6h"
      },
      "source": [
        "\n",
        "(d) Load the dataset afresh again. Replace the `NaN` values present in the the features with their respective *in-class means* for all numerical fields where each *class* is the unique combination of the `species` and `island`. Example: The  `bill_depth_mm` of an `Adelie\tTorgersen` penguins replaced with the mean of `bill_depth_mm` of all the other `Adelie\tTorgersen` entries, and so on for all fields. "
      ]
    },
    {
      "cell_type": "code",
      "metadata": {
        "id": "N9lX5ox2IcEs"
      },
      "source": [
        ""
      ],
      "execution_count": null,
      "outputs": []
    },
    {
      "cell_type": "markdown",
      "metadata": {
        "id": "UzNnB89gIecH"
      },
      "source": [
        "(e) Plot the pair plot of this transformed dataset. Make any comment(s) on what you observe here compared to (c)."
      ]
    },
    {
      "cell_type": "code",
      "metadata": {
        "id": "Xp_nmi5JIelo"
      },
      "source": [
        ""
      ],
      "execution_count": null,
      "outputs": []
    },
    {
      "cell_type": "markdown",
      "metadata": {
        "id": "JvIJjaedhaoS"
      },
      "source": [
        "## Data Visualization"
      ]
    },
    {
      "cell_type": "markdown",
      "metadata": {
        "id": "k1J6xdnxyadK"
      },
      "source": [
        "####Q3"
      ]
    },
    {
      "cell_type": "markdown",
      "metadata": {
        "id": "vD0AN5vp9wkd"
      },
      "source": [
        "**13 points** = $(3*1 + 3*2 + 3 + 1)              $\n",
        "\n",
        "\n"
      ]
    },
    {
      "cell_type": "markdown",
      "metadata": {
        "id": "71z93BIuwEV5"
      },
      "source": [
        "In this problem, the task is to visualize the data about the number of taxi pickups in a city at different time scales. The dataset contains details of taxi pickups during several months. "
      ]
    },
    {
      "cell_type": "markdown",
      "metadata": {
        "id": "USDxlrAJwlK-"
      },
      "source": [
        "Observe the datatype of the field indicating the trip start timestamp. A lot of information can be extracted from just that string."
      ]
    },
    {
      "cell_type": "code",
      "metadata": {
        "id": "50DIOf12hdEc"
      },
      "source": [
        "trips = pd.read_csv(path.format('city-taxi.csv'))"
      ],
      "execution_count": null,
      "outputs": []
    },
    {
      "cell_type": "markdown",
      "metadata": {
        "id": "XcdqryaOKDAo"
      },
      "source": [
        "(a) Extract the following from the trip start timestamp and add new columns to store them in the dataframe : \n",
        "* day of the month (1-31)\n",
        "* day of the week (Monday-Sunday)\n",
        "* hour of the day\n"
      ]
    },
    {
      "cell_type": "markdown",
      "metadata": {
        "id": "--lVQHWlKG9O"
      },
      "source": [
        "`to_datatime()` function in Pandas is the easiest way to use. \n",
        "\n",
        "There are other ways to parse the timestamp string and extract the same information, which are equally correct. "
      ]
    },
    {
      "cell_type": "code",
      "metadata": {
        "id": "QaeTMcQBI_ZW"
      },
      "source": [
        "trips['day_of_month'] = pd.to_datetime(trips.trip_start_timestamp).dt.day\n",
        "trips['day_of_week'] = pd.to_datetime(trips.trip_start_timestamp).dt.weekday\n",
        "trips['hour_of_day'] = pd.to_datetime(trips.trip_start_timestamp).dt.hour"
      ],
      "execution_count": null,
      "outputs": []
    },
    {
      "cell_type": "markdown",
      "metadata": {
        "id": "TBSVCd70KGcY"
      },
      "source": [
        "You can check a subset of the extracted values :"
      ]
    },
    {
      "cell_type": "code",
      "metadata": {
        "id": "2fe6xmP8Ji6w",
        "outputId": "d3e6c55f-971b-489d-9699-e984f4a05b32",
        "colab": {
          "base_uri": "https://localhost:8080/",
          "height": 197
        }
      },
      "source": [
        "trips[['trip_start_timestamp','day_of_month','day_of_week', 'hour_of_day']].tail(5)"
      ],
      "execution_count": null,
      "outputs": [
        {
          "output_type": "execute_result",
          "data": {
            "text/html": [
              "<div>\n",
              "<style scoped>\n",
              "    .dataframe tbody tr th:only-of-type {\n",
              "        vertical-align: middle;\n",
              "    }\n",
              "\n",
              "    .dataframe tbody tr th {\n",
              "        vertical-align: top;\n",
              "    }\n",
              "\n",
              "    .dataframe thead th {\n",
              "        text-align: right;\n",
              "    }\n",
              "</style>\n",
              "<table border=\"1\" class=\"dataframe\">\n",
              "  <thead>\n",
              "    <tr style=\"text-align: right;\">\n",
              "      <th></th>\n",
              "      <th>trip_start_timestamp</th>\n",
              "      <th>day_of_month</th>\n",
              "      <th>day_of_week</th>\n",
              "      <th>hour_of_day</th>\n",
              "    </tr>\n",
              "  </thead>\n",
              "  <tbody>\n",
              "    <tr>\n",
              "      <th>19995</th>\n",
              "      <td>2013-04-07 22:45:00+00:00</td>\n",
              "      <td>7</td>\n",
              "      <td>6</td>\n",
              "      <td>22</td>\n",
              "    </tr>\n",
              "    <tr>\n",
              "      <th>19996</th>\n",
              "      <td>2013-04-09 15:30:00+00:00</td>\n",
              "      <td>9</td>\n",
              "      <td>1</td>\n",
              "      <td>15</td>\n",
              "    </tr>\n",
              "    <tr>\n",
              "      <th>19997</th>\n",
              "      <td>2013-04-07 23:00:00+00:00</td>\n",
              "      <td>7</td>\n",
              "      <td>6</td>\n",
              "      <td>23</td>\n",
              "    </tr>\n",
              "    <tr>\n",
              "      <th>19998</th>\n",
              "      <td>2013-04-16 04:45:00+00:00</td>\n",
              "      <td>16</td>\n",
              "      <td>1</td>\n",
              "      <td>4</td>\n",
              "    </tr>\n",
              "    <tr>\n",
              "      <th>19999</th>\n",
              "      <td>2013-04-05 14:00:00+00:00</td>\n",
              "      <td>5</td>\n",
              "      <td>4</td>\n",
              "      <td>14</td>\n",
              "    </tr>\n",
              "  </tbody>\n",
              "</table>\n",
              "</div>"
            ],
            "text/plain": [
              "            trip_start_timestamp  day_of_month  day_of_week  hour_of_day\n",
              "19995  2013-04-07 22:45:00+00:00             7            6           22\n",
              "19996  2013-04-09 15:30:00+00:00             9            1           15\n",
              "19997  2013-04-07 23:00:00+00:00             7            6           23\n",
              "19998  2013-04-16 04:45:00+00:00            16            1            4\n",
              "19999  2013-04-05 14:00:00+00:00             5            4           14"
            ]
          },
          "metadata": {
            "tags": []
          },
          "execution_count": 84
        }
      ]
    },
    {
      "cell_type": "markdown",
      "metadata": {
        "id": "0zua0_bvKfyR"
      },
      "source": [
        "(b) Produce suitable plots through code to observe the following relationships and give a single line comment about the taxi usage pattern of the city residents in the mentioned context. "
      ]
    },
    {
      "cell_type": "markdown",
      "metadata": {
        "id": "3eS6kaSIKkt1"
      },
      "source": [
        "1. The number of rides by day of the month."
      ]
    },
    {
      "cell_type": "code",
      "metadata": {
        "id": "8EqVPG3cKf8Z"
      },
      "source": [
        ""
      ],
      "execution_count": null,
      "outputs": []
    },
    {
      "cell_type": "markdown",
      "metadata": {
        "id": "EMdr8r3LKmEu"
      },
      "source": [
        "2. The number of rides by the day of the week. "
      ]
    },
    {
      "cell_type": "code",
      "metadata": {
        "id": "3klMoeXsKmNd"
      },
      "source": [
        ""
      ],
      "execution_count": null,
      "outputs": []
    },
    {
      "cell_type": "markdown",
      "metadata": {
        "id": "1JZTg8MlKmXi"
      },
      "source": [
        "3. The number of hourly rides during the day."
      ]
    },
    {
      "cell_type": "code",
      "metadata": {
        "id": "9e1e6P2HKmj_"
      },
      "source": [
        ""
      ],
      "execution_count": null,
      "outputs": []
    },
    {
      "cell_type": "markdown",
      "metadata": {
        "id": "2XnFy28cK58X"
      },
      "source": [
        "(c) On a single plot, depict the taxi usage during different times of the day for cash and credit card rides. Add a suitable legend and label the axes.  "
      ]
    },
    {
      "cell_type": "code",
      "metadata": {
        "id": "tmegVogmK6E1"
      },
      "source": [
        ""
      ],
      "execution_count": null,
      "outputs": []
    },
    {
      "cell_type": "markdown",
      "metadata": {
        "id": "Reepe7GuK6RD"
      },
      "source": [
        "(d) Overall it was noted that there were substantially more credit card rides than cash rides. Is this true throughout the day?"
      ]
    },
    {
      "cell_type": "markdown",
      "metadata": {
        "id": "L9Hj79g4K9ns"
      },
      "source": [
        ""
      ]
    },
    {
      "cell_type": "markdown",
      "metadata": {
        "id": "8u5iFc9nqGmX"
      },
      "source": [
        "## K-Nearest Neighbors"
      ]
    },
    {
      "cell_type": "markdown",
      "metadata": {
        "id": "BDTANr2V1aWn"
      },
      "source": [
        "####Q4"
      ]
    },
    {
      "cell_type": "markdown",
      "metadata": {
        "id": "74Q5CmE-md0e"
      },
      "source": [
        "**8 points** = $(1.5 + 2.5 + 2 + 2)$                "
      ]
    },
    {
      "cell_type": "markdown",
      "metadata": {
        "id": "yJVVnF_41amw"
      },
      "source": [
        "Consider the sample dataset given in the following table which represents samples from the selection for a certain tax-benefit scheme based on credit score (on 800) and annual income of individuals :\n",
        "\n",
        "**Train set :**\n",
        "\n",
        "Sample|Score (800)|Income($)|Result|\n",
        "--|--|--|--|\n",
        "T1|400|20000|Selected|\n",
        "T2|200|2000|Rejected|\n",
        "T3|600|10000|Selected|\n",
        "T4|100|4000|Rejected|\n",
        "T5|800|2000|Rejected|\n",
        "T6|500|10000|Selected|\n",
        "\n",
        "\n",
        "**Test set :**\n",
        "\n",
        "Sample|Score (800)|Income($)|Result|\n",
        "--|--|--|--|\n",
        "A|200|12000|?|\n",
        "B|600|2000|?|\n",
        "\n",
        "(Note: The `Sample` column in the table is merely a unique name for each data sample to reference in the questions and your answers)\n",
        "\n",
        "Consider a kNN model with k=1 and L1 distance as the metric : $$L_1[(x_1, y_2) || (x_2, y_2)] = |x_1 - x_2| + |y_1 - y_2|$$"
      ]
    },
    {
      "cell_type": "markdown",
      "metadata": {
        "id": "LdV7KfaiNXNS"
      },
      "source": [
        "(a) For the two test samples `A` and `B`, determine the `Result` based on your manual fitting of the above model on the train set."
      ]
    },
    {
      "cell_type": "markdown",
      "metadata": {
        "id": "MICJacFUNXYR"
      },
      "source": [
        "* Sample A : \n",
        "\n",
        "Smallest distance is $L_1(A,T6) = 2300$ \n",
        "\n",
        "$\\implies Result(A) = Result(T6) = $ **Selected**\n",
        "\n",
        "* Sample B : \n",
        "\n",
        "Smallest distance is $L_1(B,T5) = 200$ \n",
        "\n",
        "$\\implies Result(B) = Result(T5) = $ **Rejected**"
      ]
    },
    {
      "cell_type": "markdown",
      "metadata": {
        "id": "xE9ROXWbNXh8"
      },
      "source": [
        "\n",
        "(b) In the raw data :\n",
        "*  Convert the `Score` column as a percentage of the maximum possible credit score\n",
        "*  Subtract the `Income` by the minimum income in the train set and divide this result by again using the minimum income. \n",
        "\n",
        "Recalibrate your kNN model and determine the `Result` of the model for the predictions of the test samples `A` and `B`.    "
      ]
    },
    {
      "cell_type": "markdown",
      "metadata": {
        "id": "tdbH1F1KNcbS"
      },
      "source": [
        "[link text](https://)After doing the data transformation :\n",
        "\n",
        "**Train set :**\n",
        "\n",
        "Sample|Score (800)|Income($)|Result|\n",
        "--|--|--|--|\n",
        "T1|50|9|Selected|\n",
        "T2|25|0|Rejected|\n",
        "T3|75|4|Selected|\n",
        "T4|12.5|2|Rejected|\n",
        "T5|12.5|0|Rejected|\n",
        "T6|62.5|4|Selected|\n",
        "\n",
        "\n",
        "**Test set :**\n",
        "\n",
        "Sample|Score (800)|Income($)|Result|\n",
        "--|--|--|--|\n",
        "A|25|5|?|\n",
        "B|75|0|?|\n",
        "\n",
        "* Sample A : \n",
        "\n",
        "Smallest distance is $L_1(A,T2) = 5$ \n",
        "\n",
        "$\\implies Result(A) = Result(T2) = $ **Rejected**\n",
        "\n",
        "* Sample B : \n",
        "\n",
        "Smallest distance is $L_1(B,T3) = 4$ \n",
        "\n",
        "$\\implies Result(B) = Result(T3) = $ **Selected**"
      ]
    },
    {
      "cell_type": "markdown",
      "metadata": {
        "id": "Ev3zNYF4Nc_4"
      },
      "source": [
        "(c) Do you see a potential issue with fitting raw data like this to the kNN model? What is a reasonable solution?\n"
      ]
    },
    {
      "cell_type": "markdown",
      "metadata": {
        "id": "9R4OC4JCNdEm"
      },
      "source": [
        "We see that the closest neighbors for the same sample (A or B) in each of the cases (a) and (b) are different and consequently the results are just opposites. \n",
        "\n",
        "The influence of each feature on the distance is dependent on the scale of the feature. Thus, depending on the scale of a feature, the model can have different results giving different accuracies. It is very important to deal with this as kNN model is very sensitive to the value of the distance metric.\n",
        "\n",
        "The best solution would be to normalize the features to the same acceptable range (like 0-1 or 0-100) by scaling or transformation (like `log`) so that their scales do not differently impact the $L_1$ distance and to enforce equal 'influence' on the distance."
      ]
    },
    {
      "cell_type": "markdown",
      "metadata": {
        "id": "1NfQDdV_NdIG"
      },
      "source": [
        "(d) You discover many more attributes (features) about the individuals that you can include in your dataset and fit a model. Is kNN still a good choice in this case? **Why/Why not?**"
      ]
    },
    {
      "cell_type": "markdown",
      "metadata": {
        "id": "10YZJa8aNdML"
      },
      "source": [
        "With more number of features, the dimensionality of the feature space (datapoints) increases. Especially with kNN as it is based (very sensitive to) on a distance metric, the proximity of datapoints is affected in higher dimensions due to the curse of dimensionality. So, kNN is **not a good choice** in the case. "
      ]
    },
    {
      "cell_type": "markdown",
      "metadata": {
        "ein.tags": "worksheet-0",
        "id": "jeBkKi3Pngd3"
      },
      "source": [
        "## Decision Trees"
      ]
    },
    {
      "cell_type": "markdown",
      "metadata": {
        "id": "b9F-IwGJp1AB"
      },
      "source": [
        "#### **Q5**"
      ]
    },
    {
      "cell_type": "markdown",
      "metadata": {
        "id": "c2Vt-PXKYMwi"
      },
      "source": [
        "**5 points** = $(2.5 + 2.5)$"
      ]
    },
    {
      "cell_type": "markdown",
      "metadata": {
        "ein.tags": "worksheet-0",
        "id": "-8_lhxenngd4"
      },
      "source": [
        "Consider the figure below :\n",
        "\n",
        "  (a) Sketch the tree corresponding to the partition of the predictor space\n",
        "illustrated in the left-hand panel. The numbers inside the boxes indicate the\n",
        "mean of $Y$ within each region.                                                       \n",
        "\n",
        "  (b) Create a diagram similar to the left-hand panel, using the tree illustrated in the right-hand panel. You should divide up the predictor space into the correct regions, and indicate the mean for each region.\n",
        "\n",
        "<img width=600 src=\"https://i.ibb.co/PD3N5Zt/Trees.png\" alt=\"Trees\" border=\"0\" /> \n"
      ]
    },
    {
      "cell_type": "markdown",
      "metadata": {
        "id": "ZLsy5ejmK9yz"
      },
      "source": [
        "\n",
        "(a)\n",
        "\n",
        "<img width=400 src=\"https://i.ibb.co/jZVLZzg/partition-to-tree.png\" alt=\"partition-to-tree\"/>"
      ]
    },
    {
      "cell_type": "markdown",
      "metadata": {
        "id": "l_IPOXoeME0c"
      },
      "source": [
        "(b)\n",
        "\n",
        "\n",
        "\n",
        "<img src=\"https://i.ibb.co/vHsBc4S/tree-to-partition.png\"/>"
      ]
    },
    {
      "cell_type": "markdown",
      "metadata": {
        "id": "iyHAWnxmpycJ"
      },
      "source": [
        "#### **Q6**"
      ]
    },
    {
      "cell_type": "markdown",
      "metadata": {
        "id": "DemYB5AgxQwY"
      },
      "source": [
        "**13 points** = $(1 + 1 + 2 + 1.5 + 1.5 + 1.5 + 1.5 + 1 + 1 + 1)$                "
      ]
    },
    {
      "cell_type": "markdown",
      "metadata": {
        "id": "ZrJtjKbTHyta"
      },
      "source": [
        "Given below is a decision tree generated for a dataset with *150 samples* with :                             \n",
        "\n",
        "*   features : `['sepal length (cm)', 'sepal width (cm)', 'petal length (cm)', 'petal width (cm)']`\n",
        "*   target class labels : `['setosa', 'versicolor', 'virginica']`\n",
        "\n",
        "The dataset consists of 50 samples per class.\n",
        "\n",
        "<img width=650 src=\"https://i.ibb.co/gyLNf1v/decision-tree-figure.png\" alt=\"Trees\" border=\"0\" /> \n",
        "\n",
        "Based on this particular decision tree, answer the following questions:"
      ]
    },
    {
      "cell_type": "markdown",
      "metadata": {
        "id": "6bs1YNJsOK6T"
      },
      "source": [
        "(a) Which among the 4 features do you think is the least significant in determining the class of the input data? **Why**?"
      ]
    },
    {
      "cell_type": "markdown",
      "metadata": {
        "id": "oiFmodP5OLDF"
      },
      "source": [
        "`sepal_width` - because it is used only once in the last level to isolate low gini impure samples and does not contribute as significantly as the other features to classify the species."
      ]
    },
    {
      "cell_type": "markdown",
      "metadata": {
        "id": "SccR4p7zOLLD"
      },
      "source": [
        "(b) Which among the 4 features do you think is the most important in determining the class of the input data? **Why**?"
      ]
    },
    {
      "cell_type": "markdown",
      "metadata": {
        "id": "Zo54Kn8JOLSW"
      },
      "source": [
        "`petal_length` - because it is used in higher levels to isolate high gini impure samples, especially to even determine `setosa` category entirely and fairly on the `versicolor`,`virginica` split. Compared to the other features in the tree, it contributes more significantly to classify the species.\n",
        " \n",
        "(There are formulas based on the gini index to determine feature importance, you can read about it but not necessary for this answer. You can also look at the `feature_importance` property of `sklearn` `DecisionTree`)"
      ]
    },
    {
      "cell_type": "markdown",
      "metadata": {
        "id": "0fg9eOyXOLWT"
      },
      "source": [
        "(c) For each of the 3 classes, give approximate ranges of the feature values that are characteristic of the class based on the region in the partition space where a sample would **most likely occur** in the feature space (compared to other partitions). \n",
        "(Note: Need not specify all 4 features, only those that help identify the *most likely feature characteristics* are sufficient) "
      ]
    },
    {
      "cell_type": "markdown",
      "metadata": {
        "id": "ZZBGjbJ4OLaH"
      },
      "source": [
        "Look at the number of samples of each species and in which node of the tree **max number** of samples occur. This would give the feature ranges where it would most likely occur :\n",
        "\n",
        "* `setosa` - `petal_length` <= 2.45 (likelihood = 50/50 = 1)\n",
        "* `virginica` - `petal_length` > 2.45, `sepal_length` > 6.15, `petal_width` > 1.75 (likelihood = 37/50 = 0.74)\n",
        "* `versicolor` - 2.45 < `petal_length` <= 4.75, `sepal_length` <= 6.15 (likelihood = 32/50 = 0.64)"
      ]
    },
    {
      "cell_type": "markdown",
      "metadata": {
        "id": "Hbao0-CbOLda"
      },
      "source": [
        "(d) Why do some nodes have a gini index of 0 while the others do not?"
      ]
    },
    {
      "cell_type": "markdown",
      "metadata": {
        "id": "LXra1lj9OS_J"
      },
      "source": [
        "The gini ndex can be considered as a measure of the 'purity' of the node. The nodes that contain a higher mixture of the 3 classes (like the root node) contain higher gini index whereas the nodes that contain samples belonging to only one class (like some leaf nodes) contain a lower gini index.\n",
        "\n",
        "As the tree classifies the samples into subsequent nodes, the imputiry decreases and hence the gini index is lower towards the leaves and higher towards the root."
      ]
    },
    {
      "cell_type": "markdown",
      "metadata": {
        "id": "zwtJbKT1OTDl"
      },
      "source": [
        "(e) What are the possible class(es) you would classify the flowers with the following description into?:\n",
        "1.  smaller sepals and petals  (width and length of both < 3.5 cm)\n",
        "2.  longer sepals (longer than 6 cm) and wider petals (wider than 2 cm)   "
      ]
    },
    {
      "cell_type": "markdown",
      "metadata": {
        "id": "_9GbKLdnOTIn"
      },
      "source": [
        "1. setosa, versicolor  (leaves of the left subtrees due to the criterion `<` for all features)\n",
        "2. virginica  (versicolor, virginica also acceptable)"
      ]
    },
    {
      "cell_type": "markdown",
      "metadata": {
        "id": "27JhvSaMOTVK"
      },
      "source": [
        "\n",
        "(f) The field `value` actually represents the *number of samples of each class* `[#sentosa_samples, #versicolor_samples, #virginica_samples]` classified by the tree based on the given training dataset with 150 samples. With this in mind, determine the **number of samples in the training dataset that were classified into each class**. (`[setosa, versicolor, virginica] = [__, __, __]`)"
      ]
    },
    {
      "cell_type": "markdown",
      "metadata": {
        "id": "PY_EXDy5OTTB"
      },
      "source": [
        "To compute this we need to add the `value` for each of the leaf nodes per class :\n",
        "\n",
        "*  `setosa` = $\\Sigma[50,0,0] = 50$\n",
        "*  `versicolor` = $\\Sigma [0,32,1]$ + $\\Sigma [0,1,0]$ + $\\Sigma [0,16,2] = (0+32+1)+(0+1+0)+(0+6+2) = 52 $\n",
        "*  `virginica` = $\\Sigma [0,1,10] + \\Sigma [0,0,37] = (0+1+10)+(0+0+37) = 48 $\n",
        "\n",
        "`[setosa, versicolor, virginica]` = [50, 52, 48]"
      ]
    },
    {
      "cell_type": "markdown",
      "metadata": {
        "id": "NHoIESIWOTRA"
      },
      "source": [
        "(g) What is the *class-wise training accuracy* of the classification done by this tree? (training accuracy of each class : The class-wise accuracy for a class C is the fraction (or) percentage of data samples in the dataset that actually belong to C and are correctly classified as class C.)"
      ]
    },
    {
      "cell_type": "markdown",
      "metadata": {
        "id": "pGlt4HVPm5s0"
      },
      "source": [
        "**One possible Solution :  Based on the definition of class-wise accuracy that is the percentage of data samples correctly classified among those actually belonging to C** **(= PRECISION)**\n",
        "\n",
        "To compute this we need to add the `value` for each of the leaf nodes per class :\n",
        "\n",
        "*  `setosa` \n",
        "\n",
        "50 out of 50 originally `setosa` samples are classified as `setosa` as seen from the first split\n",
        "$$\\implies accuracy = 50/50 = 100 \\%$$\n",
        "\n",
        "\n",
        "*  `versicolor` = $\\Sigma [0,32,1]$ + $\\Sigma [0,1,0]$ + $\\Sigma [0,16,2] = 32+1+1+16+2 = 52 $\n",
        "\n",
        "Out of the 52 samples classified as `versicolor` from the `values` of the leaf nodes $[0,32,1], [0,1,0] \\quad and \\quad [0,16,2]$, $(32 + 1 + 16) = 49$ samples actually belong to `versicolor`\n",
        "\n",
        "49 of the 50 actual `versicolor` samples have been accuratey classified,\n",
        "$$\\implies accuracy = 49/50 = 98.00 \\%$$\n",
        "\n",
        "\n",
        "*  `virginica` = $\\Sigma [0,1,10] + \\Sigma [0,0,37] = (0+1+10)+(0+0+37) = 48 $\n",
        "\n",
        "\n",
        "Out of the 48 samples classified as `virginica` from the `values` of the leaf nodes $[0,1,10] \\quad and \\quad [0,0,37]\n",
        "$, $(10 + 37) = 47$ samples actually belong to `virginica`\n",
        "\n",
        "47 of the 50 actual `virginica` samples have been accuratey classified,\n",
        "$$\\implies accuracy = 47/50 = 94.00 \\%$$\n",
        "\n",
        "\n",
        "`[setosa, versicolor, virginica]` = [100 %, 98.00 %, 94.00 %]"
      ]
    },
    {
      "cell_type": "markdown",
      "metadata": {
        "id": "wTP0ZSuhOTPA"
      },
      "source": [
        "**Alternate Solution :  Based on the definition of class-wise accuracy that is the percentage of data samples classified into C that actually belong to C**\n",
        "\n",
        "To compute this we need to add the `value` for each of the leaf nodes per class :\n",
        "\n",
        "*  `setosa` \n",
        "\n",
        "50 out of 50 originally `setosa` samples are classified as `setosa` as seen from the first split\n",
        "$$\\implies accuracy = 50/50 = 100 \\%$$\n",
        "\n",
        "\n",
        "*  `versicolor` = $\\Sigma [0,32,1]$ + $\\Sigma [0,1,0]$ + $\\Sigma [0,16,2] = 32+1+1+16+2 = 52 $\n",
        "\n",
        "Out of the 52 samples classified as `versicolor` from the `values` of the leaf nodes $[0,32,1], [0,1,0] \\quad and \\quad [0,16,2]$, $(32 + 1 + 16) = 49$ samples actually belong to `versicolor`\n",
        "\n",
        "$$\\implies accuracy = 49/52 = 94.23 \\%$$\n",
        "\n",
        "\n",
        "*  `virginica` = $\\Sigma [0,1,10] + \\Sigma [0,0,37] = (0+1+10)+(0+0+37) = 48 $\n",
        "\n",
        "Out of the 48 samples classified as `virginica` from the `values` of the leaf nodes $[0,1,10] \\quad and \\quad [0,0,37]\n",
        "$, $(10 + 37) = 47$ samples actually belong to `virginica`\n",
        "\n",
        "$$\\implies accuracy = 47/48 = 97.91 \\%$$\n",
        "\n",
        "\n",
        "`[setosa, versicolor, virginica]` = [100 %, 94.23 %, 97.91 %]"
      ]
    },
    {
      "cell_type": "markdown",
      "metadata": {
        "id": "hwyYfNh5ooEl"
      },
      "source": [
        "**Few other possible solutions exist based on the interpretation** : but the numerators of these computed accuracies should be as stated above."
      ]
    },
    {
      "cell_type": "markdown",
      "metadata": {
        "id": "nF21kSn0OTM2"
      },
      "source": [
        "(h) What is the *overall training accuracy* of this model?"
      ]
    },
    {
      "cell_type": "markdown",
      "metadata": {
        "id": "VeprwVZxOTGw"
      },
      "source": [
        "As seen above in (g), the number of correctly classified samples are :\n",
        "\n",
        "`[setosa, versicolor, virginica]` = [50, 47, 49]\n",
        "\n",
        "Thus for the 150 training samples, \n",
        "the training accuracy is \n",
        "\n",
        "$$\\frac{50+47+49}{150} = 0.97 = 97\\%$$"
      ]
    },
    {
      "cell_type": "markdown",
      "metadata": {
        "id": "GVw4csEuObdN"
      },
      "source": [
        "(i) Do you think that this tree is overfitting the data? How would you determine it?  "
      ]
    },
    {
      "cell_type": "markdown",
      "metadata": {
        "id": "mSPt5Gj3Obgd"
      },
      "source": [
        "It seems to be overfitting the data :\n",
        "It can be seen that in the last level, `sepal_width` is used to isolate just 1 sample of `versicolor` from the `virginica` and the node represents a very small range of the feature dimensions just to fit 1 sample of `versicolor`.\n",
        "\n",
        "Thus, it can  be determined by observing the fitted tree and analyzing the samples fitted in different areas of y=the partition space. \n",
        "\n",
        "Another acceptable way to determining it: *Have a validation set and test the performance of the trained model on that*\n",
        "\n",
        "However, answers stating that it is not overfitting and giving reasons to support that (like no overfitting in the other splits) are equally correct."
      ]
    },
    {
      "cell_type": "markdown",
      "metadata": {
        "id": "QjirZKQ_Objz"
      },
      "source": [
        "(j) If you were required to fit a decision tree with lower variance, what change would you propose in the above tree?"
      ]
    },
    {
      "cell_type": "markdown",
      "metadata": {
        "id": "POi_fkD7OeaB"
      },
      "source": [
        "The tree depth is representative of the model complexity. To reduce variance, we need to reduce the errors that can potentially occur due to the model complexity (tree depth).  \n",
        "Thus, the tree could be *pruned* to get rid of the subtree at `sepal_width<=3.1` and replace it with a `viriginica` leaf node."
      ]
    },
    {
      "cell_type": "markdown",
      "metadata": {
        "id": "nbFa0M57qKML"
      },
      "source": [
        "## Linear Regression"
      ]
    },
    {
      "cell_type": "markdown",
      "metadata": {
        "id": "0uM9m2FvF1DQ"
      },
      "source": [
        "####**Q7**"
      ]
    },
    {
      "cell_type": "markdown",
      "metadata": {
        "id": "D-30oQ1VqBBj"
      },
      "source": [
        "**12 points** = $(1 + 2 + 1 + 2 + 1.5 + 1.5 + 2 + 1)$                           "
      ]
    },
    {
      "cell_type": "markdown",
      "metadata": {
        "ein.tags": "worksheet-0",
        "id": "8GICxsU1ngd1"
      },
      "source": [
        "You are building a model of bike rental demand, to help a city plan its\n",
        "transit services. After analyzing the dataset, you make the following plot,\n",
        "\n",
        "  <img width=600 src=\"https://i.ibb.co/n3Tpy6J/bike-rentals-by-time-of-day.png\"/>\n",
        "\n",
        "  The x-axis shows the time of day ($x$), and the y-axis gives the **average** number of bike rentals ($\\bar{y}$), both of which are derived from a dataset containing the instantaneous of number bike rentals ($y$) at a city location for different times of the day with the resolution in minutes. Note that you only plot the average number of bike rentals for the purpose of visualization. For fitting a model, you use the raw $x$ and $y$ available in the dataset.  \n",
        "\n",
        "The software architects of this project are very persistent on using a linear model for this demand prediction due to computational constraints and to ensure swift processing. Answer the following questions based on this.\n"
      ]
    },
    {
      "cell_type": "markdown",
      "metadata": {
        "id": "HIgjqiCP4iDf"
      },
      "source": [
        "(a) You first feel the impulse to fit the model, $$y\n",
        "= \\beta x + \\epsilon.$$ Is it a good idea to do so? Why/Why not? "
      ]
    },
    {
      "cell_type": "markdown",
      "metadata": {
        "id": "E3c9_u16439c"
      },
      "source": [
        "It is not a good idea because the relationship between $x$ (Hour of the Day) and $y$ (Number of Bike Rentals) is clearly overall non-linear from the given plot. Thus, fitting a simple linear model as given will lead to a very poor fit and may not work well for the entire range of $x$.\n",
        "\n",
        "\n",
        "\n",
        "\n",
        "\n",
        "\n",
        "\n"
      ]
    },
    {
      "cell_type": "markdown",
      "metadata": {
        "id": "Sac5PqLv4iRo"
      },
      "source": [
        "  (b) Propose a good way to represent the time of day feature variable (x-axis) to include in the regression. **Justify** your choice."
      ]
    },
    {
      "cell_type": "markdown",
      "metadata": {
        "id": "BNm-dlEP5uY-"
      },
      "source": [
        "The problem with this representation is that it is not *continuous* and has \"jumps\" - for example, $y$ is defined for every integer in the range 1000 - 1059, but $y$ simply does not exist for 1060 - 1099 (jump), it then starts from 1100. (Same thing if you use a decimal representation like 10.00 - 10.59 is valid but 10.60 - 10.99 is invalid, there are breaks)\n",
        "\n",
        "There are many other ways to map this to a continuous range like (not an exhaustive list) :\n",
        "* Use cumulative minutes since midnight, eg. 12.00 am = 0, 1.00 am = 60, 2.00 am = 120, ..., 11.00 pm = 1380, 11.59 pm = 1439 (Cumulative seconds also works, but the given times are in resolution of minutes and using seconds would be redundant. However it is an acceptable solution as well)\n",
        "* Use milliseconds since midnight, unlike seconds/ minutes/ hours is *continuous* without jumps.  \n",
        "* Map the time to periodic functions to take advantage of the cyclical structure of time - Eg., convert to cumulative minutes  and express as $\\cos(cumulative\\_minutes * 2\\pi/1440)$ and $\\sin(cumulative\\_minutes * 2\\pi/1440)$ and have them as separate features representing time. (The magic number 1440 comes from the fact that 24 hours = 1440 mins) The $sin$ and $cos$ together highlight the circular structure of time (Recall your trigonometry)\n",
        "* Spliting 24h time into two feature columns - `hour` and `minute` and mapping each of them on to a periodic function also works in theory, but not very useful in practice as the cyclical nature over the day is more useful than within an hour (if it exists). Added to this is the discontinuity in `minutes` if you use this approach. "
      ]
    },
    {
      "cell_type": "markdown",
      "metadata": {
        "id": "GVixgxR_4ic_"
      },
      "source": [
        "  (c) A data scientist in your team proposes to include an additional feature variable $x_d$ which is set to 1 for *weekday* (Mon-Fri) and 0 for *weekend* (Sat-Sun). Explain what could possibly be the basis of this choice.  "
      ]
    },
    {
      "cell_type": "markdown",
      "metadata": {
        "id": "XzmnD_Iq76gt"
      },
      "source": [
        "From the plot, we can see that the average curve is very similar for days that are weekdays (Mon-Fri) and also similar for days that are weekend (Sat-Sun). Thus, it makes sense to use the additional feature variable $x_d$ as it could explicitly discrminate between weekends and weekdays and help our model capture this difference better."
      ]
    },
    {
      "cell_type": "markdown",
      "metadata": {
        "id": "7CjC_Srm4ijo"
      },
      "source": [
        "(d) You fit a linear model for the dataset that is augmented with the additional variable $x_d$ as proposed in (c) above as $y = \\beta x + \\beta_d x_d + \\epsilon$. One of the regression coefficients of this model is $\\beta_d$. Intuitively explain what this parameter $\\beta_d$ would end up representing in **this specific** fitted linear model.  "
      ]
    },
    {
      "cell_type": "markdown",
      "metadata": {
        "id": "m1w7TO4RAvug"
      },
      "source": [
        "First, notice that for *weekend* $x_d = 0$ and the model reduces to $y = \\beta x + \\epsilon$ which is the same one as in (a). \n",
        "\n",
        "As for *weekday*, $x_d = 1$ and the model is $y = \\beta x + \\beta_d + \\epsilon$. Here, $\\beta_d$ plays the role of an intercept term in the regression. It is basically the vertical displacement (y-axis) of the *weekday* model compared to the *weekend* model. (There is actually only one model, we are viewing it as two based on the math for the sake of interpretation)\n",
        "\n",
        "Thus, it can be interpreted as the difference in number of bike rentals that the model predicts for *weekdays* and *weekends* for the same time of day.\n",
        "One more acceptable interpretation based on the fact that at $x=0$ : $y=0$ for *weekends* ($x_d=0$) and $y=\\beta_d$ for *weekdays* ($x_d=1$) is that $\\beta_d$ represents the number of bike rentals at midnight ($x=0$) on *weekdays*.  \n",
        "\n",
        "Here is one illustration of the same (just for your understanding, not required as a part of the answer). Please note that $\\beta_d$ is positive in this example whereas, it can be negative as well and can fall below the weekend line.\n",
        "\n",
        "<img width=800 src=\"https://i.ibb.co/g4tqb8K/beta-d-bike-rentals-by-time-of-day.png\" />"
      ]
    },
    {
      "cell_type": "markdown",
      "metadata": {
        "id": "FJBYkKqw4imm"
      },
      "source": [
        "\n",
        "  (e) When a linear model is fit separately for the *weekday* and *weekend* data, which one among the two (weekday/weekend) will produce a better fit model? Why?"
      ]
    },
    {
      "cell_type": "markdown",
      "metadata": {
        "id": "ZvTbihhrJA6k"
      },
      "source": [
        "Compared to the *weekday* data, the *weekend* data would fit better for a linear model as it has a linear shape for a large enough range of $x$ and less number of turning points ('knots') where the value changes from increasing to decreasing."
      ]
    },
    {
      "cell_type": "markdown",
      "metadata": {
        "id": "sn-JxKe64ixU"
      },
      "source": [
        "(f) For the **weekend** data, you realize that you can split the input domain into specific ranges and fit separate linear models to get better results. Outline a good possible set of ranges to split the input for the *weekend* data. "
      ]
    },
    {
      "cell_type": "markdown",
      "metadata": {
        "id": "1cnrP8dkJBhV"
      },
      "source": [
        "Looking at the curve for the weekend data, we can split it into linear portions according to the range :\n",
        "* [12.00 am - 5.59 am]\n",
        "* [6.00 am - 2.00 pm]\n",
        "* [2.00 pm - 11.59 pm] \n",
        "\n",
        "What is being done here is fitting local basis functions for different ranges. The basis functions are identity functions in this case $\\phi(x) = [\\mathbb{I} (x \\in [12.00 am - 5.59 am]) x, \\mathbb{I} (x \\in [6.00 am - 2.00 pm]) x, \\mathbb{I} (x \\in [2.00 pm - 11.59 pm])x]$"
      ]
    },
    {
      "cell_type": "markdown",
      "metadata": {
        "id": "PKb52xjL4i23"
      },
      "source": [
        "  (g) Motivated by this approach, you realize you can include basis functions in your\n",
        "regression even for the **weekday** data. Suggest one possible set of basis functions you might include in this regression. What is the idea behind your choice?"
      ]
    },
    {
      "cell_type": "markdown",
      "metadata": {
        "id": "vK-pU_AMJCHQ"
      },
      "source": [
        "One possible set of *global* basis functions (for the entire range of $x$) is:\n",
        "\n",
        "$\\phi(x) = [\\phi_6(x), \\phi_5(x), \\phi_4(x), \\phi_3(x), \\phi_2(x), \\phi_1(x)]$\n",
        "\n",
        "where,\n",
        "\n",
        "$\\phi_6(x) = x^6$\n",
        "\n",
        "$\\phi_5(x) = x^5$\n",
        "\n",
        "$\\phi_4(x) = x^4$\n",
        "\n",
        "$\\phi_3(x) = x^3$\n",
        "\n",
        "$\\phi_2(x) = x^2$\n",
        "\n",
        "$\\phi_1(x) = x$\n",
        "\n",
        "(Equivalent to approximating $y = \\beta_6 . x^6 + \\beta_5 . x^5 +\\beta_4 . x^4 +\\beta_3 . x^3 +\\beta_2 . x^2 +\\beta_1 . x + \\beta_0 +\\epsilon$)\n",
        "\n",
        "This is based on the observation that for the *weekday* data, the curve could be a 6th order polynomial (or more) and a 6th order polynomial could better approximate it. You can choose to include or excluse some functions in the basis set as it is only an approximation and some terms (like $x$ for example) might have less influence on the relationship.\n",
        "\n",
        "Alternatively, you can specify any *local* basis functions (for specific ranges of $x$) as in (f) :\n",
        "\n",
        "One possible example :\n",
        "$\\phi(x) = [ \\mathbb{I} (x \\in [12.00 am - 6.59 am]). x , \\mathbb{I} (x \\in [7.00 am - 6.00 pm]). x^4, \\mathbb{I} (x \\in [2.00 pm - 11.59 pm]).x]$\n",
        "\n",
        "\n",
        "observing that it is 4th order polynomial in the range [7.00 am - 6.00 pm] and could be linear approximated elsewhere separately.\n",
        "\n",
        "\n",
        "You can suggest any specific basis functions from the following families, provided it makes sense with your description :\n",
        "* polynomial basis\n",
        "* sinusoidal basis\n",
        "* gaussian basis (radial basis function)"
      ]
    },
    {
      "cell_type": "markdown",
      "metadata": {
        "id": "sdFaCI2x4ivd"
      },
      "source": [
        "(h) Describe one way that you would use to avoid your linear model from overfitting the bike rental data."
      ]
    },
    {
      "cell_type": "markdown",
      "metadata": {
        "id": "yxZ1WmZH4its"
      },
      "source": [
        "Many acceptable answers, some of which are:\n",
        "* Collect more data and consistently monitor the performance on a validation set\n",
        "* Add a regularization (L1/L2) term to the regression "
      ]
    }
  ]
}